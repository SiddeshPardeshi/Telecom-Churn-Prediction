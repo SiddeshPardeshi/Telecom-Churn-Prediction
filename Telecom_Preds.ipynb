{
 "cells": [
  {
   "cell_type": "code",
   "execution_count": 75,
   "id": "e69d9097",
   "metadata": {},
   "outputs": [],
   "source": [
    "import pandas as pd\n",
    "import numpy as np\n",
    "import matplotlib.pyplot as plt\n",
    "import seaborn as sns\n",
    "import matplotlib.ticker as mtick"
   ]
  },
  {
   "cell_type": "code",
   "execution_count": 123,
   "id": "b53062bd",
   "metadata": {},
   "outputs": [],
   "source": [
    "train = pd.read_csv('Churn_train.csv')\n",
    "test = pd.read_csv('Churn_test.csv')"
   ]
  },
  {
   "cell_type": "code",
   "execution_count": 77,
   "id": "63d2dade",
   "metadata": {},
   "outputs": [
    {
     "data": {
      "text/html": [
       "<div>\n",
       "<style scoped>\n",
       "    .dataframe tbody tr th:only-of-type {\n",
       "        vertical-align: middle;\n",
       "    }\n",
       "\n",
       "    .dataframe tbody tr th {\n",
       "        vertical-align: top;\n",
       "    }\n",
       "\n",
       "    .dataframe thead th {\n",
       "        text-align: right;\n",
       "    }\n",
       "</style>\n",
       "<table border=\"1\" class=\"dataframe\">\n",
       "  <thead>\n",
       "    <tr style=\"text-align: right;\">\n",
       "      <th></th>\n",
       "      <th>customerID</th>\n",
       "      <th>gender</th>\n",
       "      <th>SeniorCitizen</th>\n",
       "      <th>Partner</th>\n",
       "      <th>Dependents</th>\n",
       "      <th>tenure</th>\n",
       "      <th>PhoneService</th>\n",
       "      <th>MultipleLines</th>\n",
       "      <th>InternetService</th>\n",
       "      <th>OnlineSecurity</th>\n",
       "      <th>...</th>\n",
       "      <th>DeviceProtection</th>\n",
       "      <th>TechSupport</th>\n",
       "      <th>StreamingTV</th>\n",
       "      <th>StreamingMovies</th>\n",
       "      <th>Contract</th>\n",
       "      <th>PaperlessBilling</th>\n",
       "      <th>PaymentMethod</th>\n",
       "      <th>MonthlyCharges</th>\n",
       "      <th>TotalCharges</th>\n",
       "      <th>Churn</th>\n",
       "    </tr>\n",
       "  </thead>\n",
       "  <tbody>\n",
       "    <tr>\n",
       "      <th>0</th>\n",
       "      <td>5442-PPTJY</td>\n",
       "      <td>Male</td>\n",
       "      <td>0</td>\n",
       "      <td>Yes</td>\n",
       "      <td>Yes</td>\n",
       "      <td>12</td>\n",
       "      <td>Yes</td>\n",
       "      <td>No</td>\n",
       "      <td>No</td>\n",
       "      <td>No internet service</td>\n",
       "      <td>...</td>\n",
       "      <td>No internet service</td>\n",
       "      <td>No internet service</td>\n",
       "      <td>No internet service</td>\n",
       "      <td>No internet service</td>\n",
       "      <td>Two year</td>\n",
       "      <td>No</td>\n",
       "      <td>Mailed check</td>\n",
       "      <td>19.70</td>\n",
       "      <td>258.35</td>\n",
       "      <td>No</td>\n",
       "    </tr>\n",
       "    <tr>\n",
       "      <th>1</th>\n",
       "      <td>6261-RCVNS</td>\n",
       "      <td>Female</td>\n",
       "      <td>0</td>\n",
       "      <td>No</td>\n",
       "      <td>No</td>\n",
       "      <td>42</td>\n",
       "      <td>Yes</td>\n",
       "      <td>No</td>\n",
       "      <td>DSL</td>\n",
       "      <td>Yes</td>\n",
       "      <td>...</td>\n",
       "      <td>Yes</td>\n",
       "      <td>Yes</td>\n",
       "      <td>No</td>\n",
       "      <td>Yes</td>\n",
       "      <td>One year</td>\n",
       "      <td>No</td>\n",
       "      <td>Credit card (automatic)</td>\n",
       "      <td>73.90</td>\n",
       "      <td>3160.55</td>\n",
       "      <td>Yes</td>\n",
       "    </tr>\n",
       "    <tr>\n",
       "      <th>2</th>\n",
       "      <td>2176-OSJUV</td>\n",
       "      <td>Male</td>\n",
       "      <td>0</td>\n",
       "      <td>Yes</td>\n",
       "      <td>No</td>\n",
       "      <td>71</td>\n",
       "      <td>Yes</td>\n",
       "      <td>Yes</td>\n",
       "      <td>DSL</td>\n",
       "      <td>Yes</td>\n",
       "      <td>...</td>\n",
       "      <td>No</td>\n",
       "      <td>Yes</td>\n",
       "      <td>No</td>\n",
       "      <td>No</td>\n",
       "      <td>Two year</td>\n",
       "      <td>No</td>\n",
       "      <td>Bank transfer (automatic)</td>\n",
       "      <td>65.15</td>\n",
       "      <td>4681.75</td>\n",
       "      <td>No</td>\n",
       "    </tr>\n",
       "    <tr>\n",
       "      <th>3</th>\n",
       "      <td>6161-ERDGD</td>\n",
       "      <td>Male</td>\n",
       "      <td>0</td>\n",
       "      <td>Yes</td>\n",
       "      <td>Yes</td>\n",
       "      <td>71</td>\n",
       "      <td>Yes</td>\n",
       "      <td>Yes</td>\n",
       "      <td>DSL</td>\n",
       "      <td>Yes</td>\n",
       "      <td>...</td>\n",
       "      <td>Yes</td>\n",
       "      <td>Yes</td>\n",
       "      <td>Yes</td>\n",
       "      <td>Yes</td>\n",
       "      <td>One year</td>\n",
       "      <td>No</td>\n",
       "      <td>Electronic check</td>\n",
       "      <td>85.45</td>\n",
       "      <td>6300.85</td>\n",
       "      <td>No</td>\n",
       "    </tr>\n",
       "    <tr>\n",
       "      <th>4</th>\n",
       "      <td>2364-UFROM</td>\n",
       "      <td>Male</td>\n",
       "      <td>0</td>\n",
       "      <td>No</td>\n",
       "      <td>No</td>\n",
       "      <td>30</td>\n",
       "      <td>Yes</td>\n",
       "      <td>No</td>\n",
       "      <td>DSL</td>\n",
       "      <td>Yes</td>\n",
       "      <td>...</td>\n",
       "      <td>No</td>\n",
       "      <td>Yes</td>\n",
       "      <td>Yes</td>\n",
       "      <td>No</td>\n",
       "      <td>One year</td>\n",
       "      <td>No</td>\n",
       "      <td>Electronic check</td>\n",
       "      <td>70.40</td>\n",
       "      <td>2044.75</td>\n",
       "      <td>No</td>\n",
       "    </tr>\n",
       "  </tbody>\n",
       "</table>\n",
       "<p>5 rows × 21 columns</p>\n",
       "</div>"
      ],
      "text/plain": [
       "   customerID  gender  SeniorCitizen Partner Dependents  tenure PhoneService  \\\n",
       "0  5442-PPTJY    Male              0     Yes        Yes      12          Yes   \n",
       "1  6261-RCVNS  Female              0      No         No      42          Yes   \n",
       "2  2176-OSJUV    Male              0     Yes         No      71          Yes   \n",
       "3  6161-ERDGD    Male              0     Yes        Yes      71          Yes   \n",
       "4  2364-UFROM    Male              0      No         No      30          Yes   \n",
       "\n",
       "  MultipleLines InternetService       OnlineSecurity  ...  \\\n",
       "0            No              No  No internet service  ...   \n",
       "1            No             DSL                  Yes  ...   \n",
       "2           Yes             DSL                  Yes  ...   \n",
       "3           Yes             DSL                  Yes  ...   \n",
       "4            No             DSL                  Yes  ...   \n",
       "\n",
       "      DeviceProtection          TechSupport          StreamingTV  \\\n",
       "0  No internet service  No internet service  No internet service   \n",
       "1                  Yes                  Yes                   No   \n",
       "2                   No                  Yes                   No   \n",
       "3                  Yes                  Yes                  Yes   \n",
       "4                   No                  Yes                  Yes   \n",
       "\n",
       "       StreamingMovies  Contract PaperlessBilling              PaymentMethod  \\\n",
       "0  No internet service  Two year               No               Mailed check   \n",
       "1                  Yes  One year               No    Credit card (automatic)   \n",
       "2                   No  Two year               No  Bank transfer (automatic)   \n",
       "3                  Yes  One year               No           Electronic check   \n",
       "4                   No  One year               No           Electronic check   \n",
       "\n",
       "  MonthlyCharges  TotalCharges Churn  \n",
       "0          19.70        258.35    No  \n",
       "1          73.90       3160.55   Yes  \n",
       "2          65.15       4681.75    No  \n",
       "3          85.45       6300.85    No  \n",
       "4          70.40       2044.75    No  \n",
       "\n",
       "[5 rows x 21 columns]"
      ]
     },
     "execution_count": 77,
     "metadata": {},
     "output_type": "execute_result"
    }
   ],
   "source": [
    "train.head()"
   ]
  },
  {
   "cell_type": "markdown",
   "id": "04d909bf",
   "metadata": {},
   "source": [
    "# Data Description and Information :"
   ]
  },
  {
   "cell_type": "code",
   "execution_count": 78,
   "id": "f7ab3c8a",
   "metadata": {},
   "outputs": [
    {
     "name": "stdout",
     "output_type": "stream",
     "text": [
      "<class 'pandas.core.frame.DataFrame'>\n",
      "RangeIndex: 5634 entries, 0 to 5633\n",
      "Data columns (total 21 columns):\n",
      " #   Column            Non-Null Count  Dtype  \n",
      "---  ------            --------------  -----  \n",
      " 0   customerID        5634 non-null   object \n",
      " 1   gender            5634 non-null   object \n",
      " 2   SeniorCitizen     5634 non-null   int64  \n",
      " 3   Partner           5634 non-null   object \n",
      " 4   Dependents        5634 non-null   object \n",
      " 5   tenure            5634 non-null   int64  \n",
      " 6   PhoneService      5634 non-null   object \n",
      " 7   MultipleLines     5634 non-null   object \n",
      " 8   InternetService   5634 non-null   object \n",
      " 9   OnlineSecurity    5634 non-null   object \n",
      " 10  OnlineBackup      5634 non-null   object \n",
      " 11  DeviceProtection  5634 non-null   object \n",
      " 12  TechSupport       5634 non-null   object \n",
      " 13  StreamingTV       5634 non-null   object \n",
      " 14  StreamingMovies   5634 non-null   object \n",
      " 15  Contract          5634 non-null   object \n",
      " 16  PaperlessBilling  5634 non-null   object \n",
      " 17  PaymentMethod     5634 non-null   object \n",
      " 18  MonthlyCharges    5634 non-null   float64\n",
      " 19  TotalCharges      5634 non-null   object \n",
      " 20  Churn             5634 non-null   object \n",
      "dtypes: float64(1), int64(2), object(18)\n",
      "memory usage: 924.5+ KB\n"
     ]
    }
   ],
   "source": [
    "train.info()"
   ]
  },
  {
   "cell_type": "code",
   "execution_count": 79,
   "id": "632fd51d",
   "metadata": {},
   "outputs": [
    {
     "data": {
      "text/html": [
       "<div>\n",
       "<style scoped>\n",
       "    .dataframe tbody tr th:only-of-type {\n",
       "        vertical-align: middle;\n",
       "    }\n",
       "\n",
       "    .dataframe tbody tr th {\n",
       "        vertical-align: top;\n",
       "    }\n",
       "\n",
       "    .dataframe thead th {\n",
       "        text-align: right;\n",
       "    }\n",
       "</style>\n",
       "<table border=\"1\" class=\"dataframe\">\n",
       "  <thead>\n",
       "    <tr style=\"text-align: right;\">\n",
       "      <th></th>\n",
       "      <th>SeniorCitizen</th>\n",
       "      <th>tenure</th>\n",
       "      <th>MonthlyCharges</th>\n",
       "    </tr>\n",
       "  </thead>\n",
       "  <tbody>\n",
       "    <tr>\n",
       "      <th>count</th>\n",
       "      <td>5634.000000</td>\n",
       "      <td>5634.000000</td>\n",
       "      <td>5634.000000</td>\n",
       "    </tr>\n",
       "    <tr>\n",
       "      <th>mean</th>\n",
       "      <td>0.161874</td>\n",
       "      <td>32.277955</td>\n",
       "      <td>64.779127</td>\n",
       "    </tr>\n",
       "    <tr>\n",
       "      <th>std</th>\n",
       "      <td>0.368368</td>\n",
       "      <td>24.555211</td>\n",
       "      <td>30.104993</td>\n",
       "    </tr>\n",
       "    <tr>\n",
       "      <th>min</th>\n",
       "      <td>0.000000</td>\n",
       "      <td>0.000000</td>\n",
       "      <td>18.250000</td>\n",
       "    </tr>\n",
       "    <tr>\n",
       "      <th>25%</th>\n",
       "      <td>0.000000</td>\n",
       "      <td>9.000000</td>\n",
       "      <td>35.400000</td>\n",
       "    </tr>\n",
       "    <tr>\n",
       "      <th>50%</th>\n",
       "      <td>0.000000</td>\n",
       "      <td>29.000000</td>\n",
       "      <td>70.375000</td>\n",
       "    </tr>\n",
       "    <tr>\n",
       "      <th>75%</th>\n",
       "      <td>0.000000</td>\n",
       "      <td>55.000000</td>\n",
       "      <td>89.850000</td>\n",
       "    </tr>\n",
       "    <tr>\n",
       "      <th>max</th>\n",
       "      <td>1.000000</td>\n",
       "      <td>72.000000</td>\n",
       "      <td>118.650000</td>\n",
       "    </tr>\n",
       "  </tbody>\n",
       "</table>\n",
       "</div>"
      ],
      "text/plain": [
       "       SeniorCitizen       tenure  MonthlyCharges\n",
       "count    5634.000000  5634.000000     5634.000000\n",
       "mean        0.161874    32.277955       64.779127\n",
       "std         0.368368    24.555211       30.104993\n",
       "min         0.000000     0.000000       18.250000\n",
       "25%         0.000000     9.000000       35.400000\n",
       "50%         0.000000    29.000000       70.375000\n",
       "75%         0.000000    55.000000       89.850000\n",
       "max         1.000000    72.000000      118.650000"
      ]
     },
     "execution_count": 79,
     "metadata": {},
     "output_type": "execute_result"
    }
   ],
   "source": [
    "train.describe()"
   ]
  },
  {
   "cell_type": "markdown",
   "id": "c79edba8",
   "metadata": {},
   "source": [
    "**Converting inconsistent dtypes into consistent dtypes and handling missing values :**"
   ]
  },
  {
   "cell_type": "code",
   "execution_count": 80,
   "id": "80900f2f",
   "metadata": {},
   "outputs": [
    {
     "data": {
      "text/plain": [
       "customerID           object\n",
       "gender               object\n",
       "SeniorCitizen         int64\n",
       "Partner              object\n",
       "Dependents           object\n",
       "tenure                int64\n",
       "PhoneService         object\n",
       "MultipleLines        object\n",
       "InternetService      object\n",
       "OnlineSecurity       object\n",
       "OnlineBackup         object\n",
       "DeviceProtection     object\n",
       "TechSupport          object\n",
       "StreamingTV          object\n",
       "StreamingMovies      object\n",
       "Contract             object\n",
       "PaperlessBilling     object\n",
       "PaymentMethod        object\n",
       "MonthlyCharges      float64\n",
       "TotalCharges         object\n",
       "Churn                object\n",
       "dtype: object"
      ]
     },
     "execution_count": 80,
     "metadata": {},
     "output_type": "execute_result"
    }
   ],
   "source": [
    "train.dtypes"
   ]
  },
  {
   "cell_type": "code",
   "execution_count": 81,
   "id": "b2d5d2b9",
   "metadata": {},
   "outputs": [],
   "source": [
    "#Converting TotalCharges into Numeric data type\n",
    "train.TotalCharges = pd.to_numeric(train.TotalCharges, errors='coerce')"
   ]
  },
  {
   "cell_type": "code",
   "execution_count": 82,
   "id": "ecc2f0e4",
   "metadata": {},
   "outputs": [
    {
     "data": {
      "text/plain": [
       "customerID          0\n",
       "gender              0\n",
       "SeniorCitizen       0\n",
       "Partner             0\n",
       "Dependents          0\n",
       "tenure              0\n",
       "PhoneService        0\n",
       "MultipleLines       0\n",
       "InternetService     0\n",
       "OnlineSecurity      0\n",
       "OnlineBackup        0\n",
       "DeviceProtection    0\n",
       "TechSupport         0\n",
       "StreamingTV         0\n",
       "StreamingMovies     0\n",
       "Contract            0\n",
       "PaperlessBilling    0\n",
       "PaymentMethod       0\n",
       "MonthlyCharges      0\n",
       "TotalCharges        8\n",
       "Churn               0\n",
       "dtype: int64"
      ]
     },
     "execution_count": 82,
     "metadata": {},
     "output_type": "execute_result"
    }
   ],
   "source": [
    "train.isna().sum()"
   ]
  },
  {
   "cell_type": "code",
   "execution_count": 83,
   "id": "fd36731d",
   "metadata": {},
   "outputs": [],
   "source": [
    "train['TotalCharges'] = np.where(train['TotalCharges'].isna(), \n",
    "                                 train['TotalCharges'].median(skipna = True), train['TotalCharges'])"
   ]
  },
  {
   "cell_type": "code",
   "execution_count": 84,
   "id": "35d4d9c1",
   "metadata": {},
   "outputs": [],
   "source": [
    "train_df = train"
   ]
  },
  {
   "cell_type": "code",
   "execution_count": 86,
   "id": "24f7c008",
   "metadata": {},
   "outputs": [],
   "source": [
    "train_df['Churn'].replace(to_replace = 'Yes', value = 1, inplace = True)\n",
    "train_df['Churn'].replace(to_replace = 'No', value = 0, inplace = True)"
   ]
  },
  {
   "cell_type": "code",
   "execution_count": 87,
   "id": "7b908460",
   "metadata": {},
   "outputs": [],
   "source": [
    "from sklearn import preprocessing\n",
    "le = preprocessing.LabelEncoder()"
   ]
  },
  {
   "cell_type": "code",
   "execution_count": 88,
   "id": "590a067e",
   "metadata": {},
   "outputs": [],
   "source": [
    "train_df['gender'] = le.fit_transform(train_df['gender'])\n",
    "train_df['Partner'] = le.fit_transform(train_df['Partner'])\n",
    "train_df['Dependents'] = le.fit_transform(train_df['Dependents'])\n",
    "train_df['PhoneService'] = le.fit_transform(train_df['PhoneService'])\n",
    "train_df['MultipleLines'] = le.fit_transform(train_df['MultipleLines'])\n",
    "train_df['InternetService'] = le.fit_transform(train_df['InternetService'])\n",
    "train_df['OnlineSecurity'] = le.fit_transform(train_df['OnlineSecurity'])\n",
    "train_df['OnlineBackup'] = le.fit_transform(train_df['OnlineBackup'])\n",
    "train_df['DeviceProtection'] = le.fit_transform(train_df['DeviceProtection'])\n",
    "train_df['TechSupport'] = le.fit_transform(train_df['TechSupport'])\n",
    "train_df['StreamingTV'] = le.fit_transform(train_df['StreamingTV'])\n",
    "train_df['StreamingMovies'] = le.fit_transform(train_df['StreamingMovies'])\n",
    "train_df['Contract'] = le.fit_transform(train_df['Contract'])\n",
    "train_df['PaperlessBilling'] = le.fit_transform(train_df['PaperlessBilling'])\n",
    "train_df['PaymentMethod'] = le.fit_transform(train_df['PaymentMethod'])"
   ]
  },
  {
   "cell_type": "code",
   "execution_count": 89,
   "id": "e8a3745c",
   "metadata": {},
   "outputs": [
    {
     "data": {
      "text/html": [
       "<div>\n",
       "<style scoped>\n",
       "    .dataframe tbody tr th:only-of-type {\n",
       "        vertical-align: middle;\n",
       "    }\n",
       "\n",
       "    .dataframe tbody tr th {\n",
       "        vertical-align: top;\n",
       "    }\n",
       "\n",
       "    .dataframe thead th {\n",
       "        text-align: right;\n",
       "    }\n",
       "</style>\n",
       "<table border=\"1\" class=\"dataframe\">\n",
       "  <thead>\n",
       "    <tr style=\"text-align: right;\">\n",
       "      <th></th>\n",
       "      <th>customerID</th>\n",
       "      <th>gender</th>\n",
       "      <th>SeniorCitizen</th>\n",
       "      <th>Partner</th>\n",
       "      <th>Dependents</th>\n",
       "      <th>tenure</th>\n",
       "      <th>PhoneService</th>\n",
       "      <th>MultipleLines</th>\n",
       "      <th>InternetService</th>\n",
       "      <th>OnlineSecurity</th>\n",
       "      <th>...</th>\n",
       "      <th>DeviceProtection</th>\n",
       "      <th>TechSupport</th>\n",
       "      <th>StreamingTV</th>\n",
       "      <th>StreamingMovies</th>\n",
       "      <th>Contract</th>\n",
       "      <th>PaperlessBilling</th>\n",
       "      <th>PaymentMethod</th>\n",
       "      <th>MonthlyCharges</th>\n",
       "      <th>TotalCharges</th>\n",
       "      <th>Churn</th>\n",
       "    </tr>\n",
       "  </thead>\n",
       "  <tbody>\n",
       "    <tr>\n",
       "      <th>0</th>\n",
       "      <td>5442-PPTJY</td>\n",
       "      <td>1</td>\n",
       "      <td>0</td>\n",
       "      <td>1</td>\n",
       "      <td>1</td>\n",
       "      <td>12</td>\n",
       "      <td>1</td>\n",
       "      <td>0</td>\n",
       "      <td>2</td>\n",
       "      <td>1</td>\n",
       "      <td>...</td>\n",
       "      <td>1</td>\n",
       "      <td>1</td>\n",
       "      <td>1</td>\n",
       "      <td>1</td>\n",
       "      <td>2</td>\n",
       "      <td>0</td>\n",
       "      <td>3</td>\n",
       "      <td>19.70</td>\n",
       "      <td>258.35</td>\n",
       "      <td>0</td>\n",
       "    </tr>\n",
       "    <tr>\n",
       "      <th>1</th>\n",
       "      <td>6261-RCVNS</td>\n",
       "      <td>0</td>\n",
       "      <td>0</td>\n",
       "      <td>0</td>\n",
       "      <td>0</td>\n",
       "      <td>42</td>\n",
       "      <td>1</td>\n",
       "      <td>0</td>\n",
       "      <td>0</td>\n",
       "      <td>2</td>\n",
       "      <td>...</td>\n",
       "      <td>2</td>\n",
       "      <td>2</td>\n",
       "      <td>0</td>\n",
       "      <td>2</td>\n",
       "      <td>1</td>\n",
       "      <td>0</td>\n",
       "      <td>1</td>\n",
       "      <td>73.90</td>\n",
       "      <td>3160.55</td>\n",
       "      <td>1</td>\n",
       "    </tr>\n",
       "    <tr>\n",
       "      <th>2</th>\n",
       "      <td>2176-OSJUV</td>\n",
       "      <td>1</td>\n",
       "      <td>0</td>\n",
       "      <td>1</td>\n",
       "      <td>0</td>\n",
       "      <td>71</td>\n",
       "      <td>1</td>\n",
       "      <td>2</td>\n",
       "      <td>0</td>\n",
       "      <td>2</td>\n",
       "      <td>...</td>\n",
       "      <td>0</td>\n",
       "      <td>2</td>\n",
       "      <td>0</td>\n",
       "      <td>0</td>\n",
       "      <td>2</td>\n",
       "      <td>0</td>\n",
       "      <td>0</td>\n",
       "      <td>65.15</td>\n",
       "      <td>4681.75</td>\n",
       "      <td>0</td>\n",
       "    </tr>\n",
       "    <tr>\n",
       "      <th>3</th>\n",
       "      <td>6161-ERDGD</td>\n",
       "      <td>1</td>\n",
       "      <td>0</td>\n",
       "      <td>1</td>\n",
       "      <td>1</td>\n",
       "      <td>71</td>\n",
       "      <td>1</td>\n",
       "      <td>2</td>\n",
       "      <td>0</td>\n",
       "      <td>2</td>\n",
       "      <td>...</td>\n",
       "      <td>2</td>\n",
       "      <td>2</td>\n",
       "      <td>2</td>\n",
       "      <td>2</td>\n",
       "      <td>1</td>\n",
       "      <td>0</td>\n",
       "      <td>2</td>\n",
       "      <td>85.45</td>\n",
       "      <td>6300.85</td>\n",
       "      <td>0</td>\n",
       "    </tr>\n",
       "    <tr>\n",
       "      <th>4</th>\n",
       "      <td>2364-UFROM</td>\n",
       "      <td>1</td>\n",
       "      <td>0</td>\n",
       "      <td>0</td>\n",
       "      <td>0</td>\n",
       "      <td>30</td>\n",
       "      <td>1</td>\n",
       "      <td>0</td>\n",
       "      <td>0</td>\n",
       "      <td>2</td>\n",
       "      <td>...</td>\n",
       "      <td>0</td>\n",
       "      <td>2</td>\n",
       "      <td>2</td>\n",
       "      <td>0</td>\n",
       "      <td>1</td>\n",
       "      <td>0</td>\n",
       "      <td>2</td>\n",
       "      <td>70.40</td>\n",
       "      <td>2044.75</td>\n",
       "      <td>0</td>\n",
       "    </tr>\n",
       "  </tbody>\n",
       "</table>\n",
       "<p>5 rows × 21 columns</p>\n",
       "</div>"
      ],
      "text/plain": [
       "   customerID  gender  SeniorCitizen  Partner  Dependents  tenure  \\\n",
       "0  5442-PPTJY       1              0        1           1      12   \n",
       "1  6261-RCVNS       0              0        0           0      42   \n",
       "2  2176-OSJUV       1              0        1           0      71   \n",
       "3  6161-ERDGD       1              0        1           1      71   \n",
       "4  2364-UFROM       1              0        0           0      30   \n",
       "\n",
       "   PhoneService  MultipleLines  InternetService  OnlineSecurity  ...  \\\n",
       "0             1              0                2               1  ...   \n",
       "1             1              0                0               2  ...   \n",
       "2             1              2                0               2  ...   \n",
       "3             1              2                0               2  ...   \n",
       "4             1              0                0               2  ...   \n",
       "\n",
       "   DeviceProtection  TechSupport  StreamingTV  StreamingMovies  Contract  \\\n",
       "0                 1            1            1                1         2   \n",
       "1                 2            2            0                2         1   \n",
       "2                 0            2            0                0         2   \n",
       "3                 2            2            2                2         1   \n",
       "4                 0            2            2                0         1   \n",
       "\n",
       "   PaperlessBilling  PaymentMethod  MonthlyCharges  TotalCharges  Churn  \n",
       "0                 0              3           19.70        258.35      0  \n",
       "1                 0              1           73.90       3160.55      1  \n",
       "2                 0              0           65.15       4681.75      0  \n",
       "3                 0              2           85.45       6300.85      0  \n",
       "4                 0              2           70.40       2044.75      0  \n",
       "\n",
       "[5 rows x 21 columns]"
      ]
     },
     "execution_count": 89,
     "metadata": {},
     "output_type": "execute_result"
    }
   ],
   "source": [
    "train_df.head()"
   ]
  },
  {
   "cell_type": "code",
   "execution_count": 90,
   "id": "e6c3e1c8",
   "metadata": {},
   "outputs": [
    {
     "data": {
      "text/plain": [
       "customerID           object\n",
       "gender                int32\n",
       "SeniorCitizen         int64\n",
       "Partner               int32\n",
       "Dependents            int32\n",
       "tenure                int64\n",
       "PhoneService          int32\n",
       "MultipleLines         int32\n",
       "InternetService       int32\n",
       "OnlineSecurity        int32\n",
       "OnlineBackup          int32\n",
       "DeviceProtection      int32\n",
       "TechSupport           int32\n",
       "StreamingTV           int32\n",
       "StreamingMovies       int32\n",
       "Contract              int32\n",
       "PaperlessBilling      int32\n",
       "PaymentMethod         int32\n",
       "MonthlyCharges      float64\n",
       "TotalCharges        float64\n",
       "Churn                 int64\n",
       "dtype: object"
      ]
     },
     "execution_count": 90,
     "metadata": {},
     "output_type": "execute_result"
    }
   ],
   "source": [
    "train_df.dtypes"
   ]
  },
  {
   "cell_type": "markdown",
   "id": "814c42fc",
   "metadata": {},
   "source": [
    "# EDA"
   ]
  },
  {
   "cell_type": "markdown",
   "id": "56f241ae",
   "metadata": {},
   "source": [
    "**Gender Distribution :**"
   ]
  },
  {
   "cell_type": "code",
   "execution_count": 31,
   "id": "3f05b768",
   "metadata": {},
   "outputs": [
    {
     "data": {
      "image/png": "[encoded data removed]",
      "text/plain": [
       "<Figure size 432x288 with 1 Axes>"
      ]
     },
     "metadata": {
      "needs_background": "light"
     },
     "output_type": "display_data"
    }
   ],
   "source": [
    "ax = (train['gender'].value_counts()*100.0/len(train)).plot.bar(rot = 0, stacked = True)\n",
    "ax.yaxis.set_major_formatter(mtick.PercentFormatter())\n",
    "ax.set_ylabel('% Customers')\n",
    "ax.set_xlabel('Gender')\n",
    "ax.set_ylabel('% Customers')\n",
    "ax.set_title('Gender Distribution')\n",
    "\n",
    "totals = []\n",
    "\n",
    "for i in ax.patches:\n",
    "    totals.append(i.get_width())\n",
    "    \n",
    "total = sum(totals)\n",
    "\n",
    "for i in ax.patches:\n",
    "    ax.text(i.get_x()+.15, i.get_height()-4.5,str(round((i.get_height()/total), 1))+'%', fontsize=10, color='white',\n",
    "            weight = 'bold')"
   ]
  },
  {
   "cell_type": "markdown",
   "id": "193b17cc",
   "metadata": {},
   "source": [
    "**Senior Citizen :**"
   ]
  },
  {
   "cell_type": "code",
   "execution_count": 32,
   "id": "530ad0ce",
   "metadata": {},
   "outputs": [
    {
     "data": {
      "image/png": "[encoded data removed]",
      "text/plain": [
       "<Figure size 720x720 with 1 Axes>"
      ]
     },
     "metadata": {},
     "output_type": "display_data"
    }
   ],
   "source": [
    "figure = plt.figure(figsize=[10, 10])\n",
    "\n",
    "train['SeniorCitizen'].value_counts().plot.pie(autopct='%3.1f%%',labels = ['No', 'Yes'] ,cmap = 'Pastel1')\n",
    "\n",
    "plt.ylabel(ylabel='SeniorCitizen', size=14)\n",
    "plt.title(label='Donut Plot showing the proportion of SeniorCitizen', size=16)\n",
    "plt.show()"
   ]
  },
  {
   "cell_type": "markdown",
   "id": "952f95ce",
   "metadata": {},
   "source": [
    "**Customer tenure information :**"
   ]
  },
  {
   "cell_type": "code",
   "execution_count": 33,
   "id": "9b305c9f",
   "metadata": {},
   "outputs": [
    {
     "name": "stderr",
     "output_type": "stream",
     "text": [
      "C:\\Anaconda\\lib\\site-packages\\seaborn\\distributions.py:2619: FutureWarning: `distplot` is a deprecated function and will be removed in a future version. Please adapt your code to use either `displot` (a figure-level function with similar flexibility) or `histplot` (an axes-level function for histograms).\n",
      "  warnings.warn(msg, FutureWarning)\n"
     ]
    },
    {
     "data": {
      "text/plain": [
       "Text(0.5, 1.0, 'Customers by their tenure')"
      ]
     },
     "execution_count": 33,
     "metadata": {},
     "output_type": "execute_result"
    },
    {
     "data": {
      "image/png": "[encoded data removed]",
      "text/plain": [
       "<Figure size 432x288 with 1 Axes>"
      ]
     },
     "metadata": {
      "needs_background": "light"
     },
     "output_type": "display_data"
    }
   ],
   "source": [
    "ax = sns.distplot(train['tenure'], hist=True, kde=False,  color = 'blue',  hist_kws={'edgecolor':'black'})\n",
    "ax.set_ylabel('Customers', size = 15)\n",
    "ax.set_xlabel('Tenure (months)', size = 15)\n",
    "ax.set_title('Customers by their tenure', size = 15)"
   ]
  },
  {
   "cell_type": "markdown",
   "id": "6fcf863a",
   "metadata": {},
   "source": [
    "**Contracts :**"
   ]
  },
  {
   "cell_type": "code",
   "execution_count": 34,
   "id": "91d0c129",
   "metadata": {},
   "outputs": [
    {
     "data": {
      "text/plain": [
       "Text(0.5, 1.0, 'Customers by Contract Type')"
      ]
     },
     "execution_count": 34,
     "metadata": {},
     "output_type": "execute_result"
    },
    {
     "data": {
      "image/png": "[encoded data removed]",
      "text/plain": [
       "<Figure size 432x288 with 1 Axes>"
      ]
     },
     "metadata": {
      "needs_background": "light"
     },
     "output_type": "display_data"
    }
   ],
   "source": [
    "ax = train['Contract'].value_counts().plot(kind = 'bar',rot = 0, width = 0.3)\n",
    "ax.set_ylabel('Customers')\n",
    "ax.set_title('Customers by Contract Type')"
   ]
  },
  {
   "cell_type": "markdown",
   "id": "85f46710",
   "metadata": {},
   "source": [
    "**Relation between monthly charges and total charges :**"
   ]
  },
  {
   "cell_type": "code",
   "execution_count": 35,
   "id": "25396630",
   "metadata": {},
   "outputs": [
    {
     "data": {
      "text/plain": [
       "<AxesSubplot:xlabel='MonthlyCharges', ylabel='TotalCharges'>"
      ]
     },
     "execution_count": 35,
     "metadata": {},
     "output_type": "execute_result"
    },
    {
     "data": {
      "image/png": "[encoded data removed]",
      "text/plain": [
       "<Figure size 432x288 with 1 Axes>"
      ]
     },
     "metadata": {
      "needs_background": "light"
     },
     "output_type": "display_data"
    }
   ],
   "source": [
    "train_df[['MonthlyCharges', 'TotalCharges']].plot.scatter(x = 'MonthlyCharges', y='TotalCharges')"
   ]
  },
  {
   "cell_type": "markdown",
   "id": "dd21843e",
   "metadata": {},
   "source": [
    "**Train Test Split :**"
   ]
  },
  {
   "cell_type": "code",
   "execution_count": 36,
   "id": "7a2bcf95",
   "metadata": {},
   "outputs": [],
   "source": [
    "x = train_df.iloc[:, 1:20]\n",
    "y = train_df['Churn']"
   ]
  },
  {
   "cell_type": "code",
   "execution_count": 37,
   "id": "9c321a5a",
   "metadata": {},
   "outputs": [],
   "source": [
    "from sklearn.model_selection import train_test_split"
   ]
  },
  {
   "cell_type": "code",
   "execution_count": 38,
   "id": "24a11412",
   "metadata": {},
   "outputs": [],
   "source": [
    "x_train, x_test, y_train, y_test = train_test_split(x,y, test_size = 0.2, random_state = 123)"
   ]
  },
  {
   "cell_type": "code",
   "execution_count": 39,
   "id": "d7b1bc53",
   "metadata": {},
   "outputs": [
    {
     "name": "stdout",
     "output_type": "stream",
     "text": [
      "(4507, 19)\n",
      "(1127, 19)\n",
      "(4507,)\n",
      "(1127,)\n"
     ]
    }
   ],
   "source": [
    "print(x_train.shape)\n",
    "print(x_test.shape)\n",
    "print(y_train.shape)\n",
    "print(y_test.shape)"
   ]
  },
  {
   "cell_type": "markdown",
   "id": "832890c5",
   "metadata": {},
   "source": [
    "**Logistic Regression :**"
   ]
  },
  {
   "cell_type": "code",
   "execution_count": 40,
   "id": "434293d8",
   "metadata": {},
   "outputs": [],
   "source": [
    "from sklearn.linear_model import LogisticRegression"
   ]
  },
  {
   "cell_type": "code",
   "execution_count": 41,
   "id": "cb591766",
   "metadata": {},
   "outputs": [],
   "source": [
    "lr = LogisticRegression()"
   ]
  },
  {
   "cell_type": "code",
   "execution_count": 42,
   "id": "5eae89e6",
   "metadata": {},
   "outputs": [
    {
     "name": "stderr",
     "output_type": "stream",
     "text": [
      "C:\\Anaconda\\lib\\site-packages\\sklearn\\linear_model\\_logistic.py:814: ConvergenceWarning: lbfgs failed to converge (status=1):\n",
      "STOP: TOTAL NO. of ITERATIONS REACHED LIMIT.\n",
      "\n",
      "Increase the number of iterations (max_iter) or scale the data as shown in:\n",
      "    https://scikit-learn.org/stable/modules/preprocessing.html\n",
      "Please also refer to the documentation for alternative solver options:\n",
      "    https://scikit-learn.org/stable/modules/linear_model.html#logistic-regression\n",
      "  n_iter_i = _check_optimize_result(\n"
     ]
    },
    {
     "data": {
      "text/plain": [
       "LogisticRegression()"
      ]
     },
     "execution_count": 42,
     "metadata": {},
     "output_type": "execute_result"
    }
   ],
   "source": [
    "lr.fit(x_train, y_train)"
   ]
  },
  {
   "cell_type": "code",
   "execution_count": 43,
   "id": "0967a8ee",
   "metadata": {},
   "outputs": [],
   "source": [
    "y_pred_train = lr.predict(x_train)"
   ]
  },
  {
   "cell_type": "code",
   "execution_count": 44,
   "id": "c891df05",
   "metadata": {},
   "outputs": [
    {
     "data": {
      "text/plain": [
       "array([1, 1, 1, ..., 0, 0, 0], dtype=int64)"
      ]
     },
     "execution_count": 44,
     "metadata": {},
     "output_type": "execute_result"
    }
   ],
   "source": [
    "y_pred_train"
   ]
  },
  {
   "cell_type": "code",
   "execution_count": 45,
   "id": "8a99eee8",
   "metadata": {},
   "outputs": [],
   "source": [
    "#Predicting on test data\n",
    "y_pred_test = lr.predict(x_test)"
   ]
  },
  {
   "cell_type": "code",
   "execution_count": 46,
   "id": "e8dab8e3",
   "metadata": {},
   "outputs": [
    {
     "data": {
      "text/plain": [
       "array([0, 0, 0, ..., 0, 0, 0], dtype=int64)"
      ]
     },
     "execution_count": 46,
     "metadata": {},
     "output_type": "execute_result"
    }
   ],
   "source": [
    "y_pred_test"
   ]
  },
  {
   "cell_type": "markdown",
   "id": "c252bbfc",
   "metadata": {},
   "source": [
    "**Checking Accuracy score, Confusion matrix and Classification :**"
   ]
  },
  {
   "cell_type": "code",
   "execution_count": 47,
   "id": "af567ba4",
   "metadata": {},
   "outputs": [],
   "source": [
    "from sklearn.metrics import classification_report, confusion_matrix, accuracy_score"
   ]
  },
  {
   "cell_type": "code",
   "execution_count": 48,
   "id": "7feabd89",
   "metadata": {},
   "outputs": [],
   "source": [
    "def model_eval(actual, predicted):\n",
    "    cm = confusion_matrix(actual, predicted)\n",
    "    accuracy = accuracy_score(actual, predicted)\n",
    "    class_rep = classification_report(actual, predicted)\n",
    "    print(cm)\n",
    "    print('The accuracy of the Model is :', accuracy)\n",
    "    print(class_rep)"
   ]
  },
  {
   "cell_type": "code",
   "execution_count": 49,
   "id": "ce07dc07",
   "metadata": {},
   "outputs": [
    {
     "name": "stdout",
     "output_type": "stream",
     "text": [
      "[[2962  341]\n",
      " [ 542  662]]\n",
      "The accuracy of the Model is : 0.8040825382737963\n",
      "              precision    recall  f1-score   support\n",
      "\n",
      "           0       0.85      0.90      0.87      3303\n",
      "           1       0.66      0.55      0.60      1204\n",
      "\n",
      "    accuracy                           0.80      4507\n",
      "   macro avg       0.75      0.72      0.74      4507\n",
      "weighted avg       0.80      0.80      0.80      4507\n",
      "\n"
     ]
    }
   ],
   "source": [
    "model_eval(y_train, y_pred_train)"
   ]
  },
  {
   "cell_type": "code",
   "execution_count": 50,
   "id": "3bd68e22",
   "metadata": {},
   "outputs": [
    {
     "name": "stdout",
     "output_type": "stream",
     "text": [
      "[[716  94]\n",
      " [150 167]]\n",
      "The accuracy of the Model is : 0.7834960070984915\n",
      "              precision    recall  f1-score   support\n",
      "\n",
      "           0       0.83      0.88      0.85       810\n",
      "           1       0.64      0.53      0.58       317\n",
      "\n",
      "    accuracy                           0.78      1127\n",
      "   macro avg       0.73      0.71      0.72      1127\n",
      "weighted avg       0.77      0.78      0.78      1127\n",
      "\n"
     ]
    }
   ],
   "source": [
    "model_eval(y_test, y_pred_test)"
   ]
  },
  {
   "cell_type": "code",
   "execution_count": 124,
   "id": "4a0568a1",
   "metadata": {},
   "outputs": [
    {
     "data": {
      "text/html": [
       "<div>\n",
       "<style scoped>\n",
       "    .dataframe tbody tr th:only-of-type {\n",
       "        vertical-align: middle;\n",
       "    }\n",
       "\n",
       "    .dataframe tbody tr th {\n",
       "        vertical-align: top;\n",
       "    }\n",
       "\n",
       "    .dataframe thead th {\n",
       "        text-align: right;\n",
       "    }\n",
       "</style>\n",
       "<table border=\"1\" class=\"dataframe\">\n",
       "  <thead>\n",
       "    <tr style=\"text-align: right;\">\n",
       "      <th></th>\n",
       "      <th>customerID</th>\n",
       "      <th>gender</th>\n",
       "      <th>SeniorCitizen</th>\n",
       "      <th>Partner</th>\n",
       "      <th>Dependents</th>\n",
       "      <th>tenure</th>\n",
       "      <th>PhoneService</th>\n",
       "      <th>MultipleLines</th>\n",
       "      <th>InternetService</th>\n",
       "      <th>OnlineSecurity</th>\n",
       "      <th>OnlineBackup</th>\n",
       "      <th>DeviceProtection</th>\n",
       "      <th>TechSupport</th>\n",
       "      <th>StreamingTV</th>\n",
       "      <th>StreamingMovies</th>\n",
       "      <th>Contract</th>\n",
       "      <th>PaperlessBilling</th>\n",
       "      <th>PaymentMethod</th>\n",
       "      <th>MonthlyCharges</th>\n",
       "      <th>TotalCharges</th>\n",
       "    </tr>\n",
       "  </thead>\n",
       "  <tbody>\n",
       "    <tr>\n",
       "      <th>0</th>\n",
       "      <td>8879-ZKJOF</td>\n",
       "      <td>Female</td>\n",
       "      <td>0</td>\n",
       "      <td>No</td>\n",
       "      <td>No</td>\n",
       "      <td>41</td>\n",
       "      <td>Yes</td>\n",
       "      <td>No</td>\n",
       "      <td>DSL</td>\n",
       "      <td>Yes</td>\n",
       "      <td>No</td>\n",
       "      <td>Yes</td>\n",
       "      <td>Yes</td>\n",
       "      <td>Yes</td>\n",
       "      <td>Yes</td>\n",
       "      <td>One year</td>\n",
       "      <td>Yes</td>\n",
       "      <td>Bank transfer (automatic)</td>\n",
       "      <td>79.85</td>\n",
       "      <td>3320.75</td>\n",
       "    </tr>\n",
       "    <tr>\n",
       "      <th>1</th>\n",
       "      <td>0201-MIBOL</td>\n",
       "      <td>Female</td>\n",
       "      <td>1</td>\n",
       "      <td>No</td>\n",
       "      <td>No</td>\n",
       "      <td>66</td>\n",
       "      <td>Yes</td>\n",
       "      <td>Yes</td>\n",
       "      <td>Fiber optic</td>\n",
       "      <td>Yes</td>\n",
       "      <td>No</td>\n",
       "      <td>No</td>\n",
       "      <td>No</td>\n",
       "      <td>Yes</td>\n",
       "      <td>Yes</td>\n",
       "      <td>Two year</td>\n",
       "      <td>Yes</td>\n",
       "      <td>Bank transfer (automatic)</td>\n",
       "      <td>102.40</td>\n",
       "      <td>6471.85</td>\n",
       "    </tr>\n",
       "    <tr>\n",
       "      <th>2</th>\n",
       "      <td>1600-DILPE</td>\n",
       "      <td>Female</td>\n",
       "      <td>0</td>\n",
       "      <td>No</td>\n",
       "      <td>No</td>\n",
       "      <td>12</td>\n",
       "      <td>Yes</td>\n",
       "      <td>No</td>\n",
       "      <td>DSL</td>\n",
       "      <td>No</td>\n",
       "      <td>No</td>\n",
       "      <td>No</td>\n",
       "      <td>No</td>\n",
       "      <td>No</td>\n",
       "      <td>No</td>\n",
       "      <td>Month-to-month</td>\n",
       "      <td>Yes</td>\n",
       "      <td>Bank transfer (automatic)</td>\n",
       "      <td>45.00</td>\n",
       "      <td>524.35</td>\n",
       "    </tr>\n",
       "    <tr>\n",
       "      <th>3</th>\n",
       "      <td>8601-QACRS</td>\n",
       "      <td>Female</td>\n",
       "      <td>0</td>\n",
       "      <td>No</td>\n",
       "      <td>No</td>\n",
       "      <td>5</td>\n",
       "      <td>Yes</td>\n",
       "      <td>Yes</td>\n",
       "      <td>DSL</td>\n",
       "      <td>No</td>\n",
       "      <td>No</td>\n",
       "      <td>No</td>\n",
       "      <td>No</td>\n",
       "      <td>No</td>\n",
       "      <td>No</td>\n",
       "      <td>Month-to-month</td>\n",
       "      <td>Yes</td>\n",
       "      <td>Mailed check</td>\n",
       "      <td>50.60</td>\n",
       "      <td>249.95</td>\n",
       "    </tr>\n",
       "    <tr>\n",
       "      <th>4</th>\n",
       "      <td>7919-ZODZZ</td>\n",
       "      <td>Female</td>\n",
       "      <td>0</td>\n",
       "      <td>Yes</td>\n",
       "      <td>Yes</td>\n",
       "      <td>10</td>\n",
       "      <td>Yes</td>\n",
       "      <td>No</td>\n",
       "      <td>DSL</td>\n",
       "      <td>No</td>\n",
       "      <td>Yes</td>\n",
       "      <td>Yes</td>\n",
       "      <td>No</td>\n",
       "      <td>No</td>\n",
       "      <td>Yes</td>\n",
       "      <td>One year</td>\n",
       "      <td>Yes</td>\n",
       "      <td>Mailed check</td>\n",
       "      <td>65.90</td>\n",
       "      <td>660.05</td>\n",
       "    </tr>\n",
       "  </tbody>\n",
       "</table>\n",
       "</div>"
      ],
      "text/plain": [
       "   customerID  gender  SeniorCitizen Partner Dependents  tenure PhoneService  \\\n",
       "0  8879-ZKJOF  Female              0      No         No      41          Yes   \n",
       "1  0201-MIBOL  Female              1      No         No      66          Yes   \n",
       "2  1600-DILPE  Female              0      No         No      12          Yes   \n",
       "3  8601-QACRS  Female              0      No         No       5          Yes   \n",
       "4  7919-ZODZZ  Female              0     Yes        Yes      10          Yes   \n",
       "\n",
       "  MultipleLines InternetService OnlineSecurity OnlineBackup DeviceProtection  \\\n",
       "0            No             DSL            Yes           No              Yes   \n",
       "1           Yes     Fiber optic            Yes           No               No   \n",
       "2            No             DSL             No           No               No   \n",
       "3           Yes             DSL             No           No               No   \n",
       "4            No             DSL             No          Yes              Yes   \n",
       "\n",
       "  TechSupport StreamingTV StreamingMovies        Contract PaperlessBilling  \\\n",
       "0         Yes         Yes             Yes        One year              Yes   \n",
       "1          No         Yes             Yes        Two year              Yes   \n",
       "2          No          No              No  Month-to-month              Yes   \n",
       "3          No          No              No  Month-to-month              Yes   \n",
       "4          No          No             Yes        One year              Yes   \n",
       "\n",
       "               PaymentMethod  MonthlyCharges TotalCharges  \n",
       "0  Bank transfer (automatic)           79.85      3320.75  \n",
       "1  Bank transfer (automatic)          102.40      6471.85  \n",
       "2  Bank transfer (automatic)           45.00       524.35  \n",
       "3               Mailed check           50.60       249.95  \n",
       "4               Mailed check           65.90       660.05  "
      ]
     },
     "execution_count": 124,
     "metadata": {},
     "output_type": "execute_result"
    }
   ],
   "source": [
    "test.head()"
   ]
  },
  {
   "cell_type": "code",
   "execution_count": 125,
   "id": "783f8b21",
   "metadata": {},
   "outputs": [],
   "source": [
    "test['gender'] = le.fit_transform(test['gender'])\n",
    "test['Partner'] = le.fit_transform(test['Partner'])\n",
    "test['Dependents'] = le.fit_transform(test['Dependents'])\n",
    "test['PhoneService'] = le.fit_transform(test['PhoneService'])\n",
    "test['MultipleLines'] = le.fit_transform(test['MultipleLines'])\n",
    "test['InternetService'] = le.fit_transform(test['InternetService'])\n",
    "test['OnlineSecurity'] = le.fit_transform(test['OnlineSecurity'])\n",
    "test['OnlineBackup'] = le.fit_transform(test['OnlineBackup'])\n",
    "test['DeviceProtection'] = le.fit_transform(test['DeviceProtection'])\n",
    "test['TechSupport'] = le.fit_transform(test['TechSupport'])\n",
    "test['StreamingTV'] = le.fit_transform(test['StreamingTV'])\n",
    "test['StreamingMovies'] = le.fit_transform(test['StreamingMovies'])\n",
    "test['Contract'] = le.fit_transform(test['Contract'])\n",
    "test['PaperlessBilling'] = le.fit_transform(test['PaperlessBilling'])\n",
    "test['PaymentMethod'] = le.fit_transform(test['PaymentMethod'])"
   ]
  },
  {
   "cell_type": "code",
   "execution_count": 126,
   "id": "f280ad36",
   "metadata": {},
   "outputs": [
    {
     "name": "stdout",
     "output_type": "stream",
     "text": [
      "<class 'pandas.core.frame.DataFrame'>\n",
      "RangeIndex: 1409 entries, 0 to 1408\n",
      "Data columns (total 20 columns):\n",
      " #   Column            Non-Null Count  Dtype  \n",
      "---  ------            --------------  -----  \n",
      " 0   customerID        1409 non-null   object \n",
      " 1   gender            1409 non-null   int32  \n",
      " 2   SeniorCitizen     1409 non-null   int64  \n",
      " 3   Partner           1409 non-null   int32  \n",
      " 4   Dependents        1409 non-null   int32  \n",
      " 5   tenure            1409 non-null   int64  \n",
      " 6   PhoneService      1409 non-null   int32  \n",
      " 7   MultipleLines     1409 non-null   int32  \n",
      " 8   InternetService   1409 non-null   int32  \n",
      " 9   OnlineSecurity    1409 non-null   int32  \n",
      " 10  OnlineBackup      1409 non-null   int32  \n",
      " 11  DeviceProtection  1409 non-null   int32  \n",
      " 12  TechSupport       1409 non-null   int32  \n",
      " 13  StreamingTV       1409 non-null   int32  \n",
      " 14  StreamingMovies   1409 non-null   int32  \n",
      " 15  Contract          1409 non-null   int32  \n",
      " 16  PaperlessBilling  1409 non-null   int32  \n",
      " 17  PaymentMethod     1409 non-null   int32  \n",
      " 18  MonthlyCharges    1409 non-null   float64\n",
      " 19  TotalCharges      1409 non-null   object \n",
      "dtypes: float64(1), int32(15), int64(2), object(2)\n",
      "memory usage: 137.7+ KB\n"
     ]
    }
   ],
   "source": [
    "test.info()"
   ]
  },
  {
   "cell_type": "code",
   "execution_count": 127,
   "id": "fc9ec4e6",
   "metadata": {},
   "outputs": [
    {
     "data": {
      "text/plain": [
       "customerID          0\n",
       "gender              0\n",
       "SeniorCitizen       0\n",
       "Partner             0\n",
       "Dependents          0\n",
       "tenure              0\n",
       "PhoneService        0\n",
       "MultipleLines       0\n",
       "InternetService     0\n",
       "OnlineSecurity      0\n",
       "OnlineBackup        0\n",
       "DeviceProtection    0\n",
       "TechSupport         0\n",
       "StreamingTV         0\n",
       "StreamingMovies     0\n",
       "Contract            0\n",
       "PaperlessBilling    0\n",
       "PaymentMethod       0\n",
       "MonthlyCharges      0\n",
       "TotalCharges        3\n",
       "dtype: int64"
      ]
     },
     "execution_count": 127,
     "metadata": {},
     "output_type": "execute_result"
    }
   ],
   "source": [
    "test.TotalCharges = pd.to_numeric(test.TotalCharges, errors='coerce')\n",
    "test.isnull().sum()"
   ]
  },
  {
   "cell_type": "code",
   "execution_count": 128,
   "id": "f6192426",
   "metadata": {},
   "outputs": [],
   "source": [
    "test['TotalCharges'] = np.where(test['TotalCharges'].isna(), test['TotalCharges'].median(skipna = True), test['TotalCharges'])"
   ]
  },
  {
   "cell_type": "code",
   "execution_count": 129,
   "id": "30f4688a",
   "metadata": {},
   "outputs": [],
   "source": [
    "test_1 = test.iloc[:, 1:]"
   ]
  },
  {
   "cell_type": "code",
   "execution_count": 132,
   "id": "32e84fbb",
   "metadata": {},
   "outputs": [],
   "source": [
    "predicted_test = lr.predict(test_1)"
   ]
  },
  {
   "cell_type": "code",
   "execution_count": 133,
   "id": "fd02a2d7",
   "metadata": {},
   "outputs": [
    {
     "data": {
      "text/plain": [
       "array([0, 0, 0, ..., 0, 0, 1], dtype=int64)"
      ]
     },
     "execution_count": 133,
     "metadata": {},
     "output_type": "execute_result"
    }
   ],
   "source": [
    "predicted_test"
   ]
  },
  {
   "cell_type": "code",
   "execution_count": 134,
   "id": "0f27544f",
   "metadata": {},
   "outputs": [],
   "source": [
    "test['Churn_Status'] = predicted_test"
   ]
  },
  {
   "cell_type": "code",
   "execution_count": 135,
   "id": "9708daec",
   "metadata": {},
   "outputs": [
    {
     "data": {
      "text/html": [
       "<div>\n",
       "<style scoped>\n",
       "    .dataframe tbody tr th:only-of-type {\n",
       "        vertical-align: middle;\n",
       "    }\n",
       "\n",
       "    .dataframe tbody tr th {\n",
       "        vertical-align: top;\n",
       "    }\n",
       "\n",
       "    .dataframe thead th {\n",
       "        text-align: right;\n",
       "    }\n",
       "</style>\n",
       "<table border=\"1\" class=\"dataframe\">\n",
       "  <thead>\n",
       "    <tr style=\"text-align: right;\">\n",
       "      <th></th>\n",
       "      <th>customerID</th>\n",
       "      <th>gender</th>\n",
       "      <th>SeniorCitizen</th>\n",
       "      <th>Partner</th>\n",
       "      <th>Dependents</th>\n",
       "      <th>tenure</th>\n",
       "      <th>PhoneService</th>\n",
       "      <th>MultipleLines</th>\n",
       "      <th>InternetService</th>\n",
       "      <th>OnlineSecurity</th>\n",
       "      <th>...</th>\n",
       "      <th>DeviceProtection</th>\n",
       "      <th>TechSupport</th>\n",
       "      <th>StreamingTV</th>\n",
       "      <th>StreamingMovies</th>\n",
       "      <th>Contract</th>\n",
       "      <th>PaperlessBilling</th>\n",
       "      <th>PaymentMethod</th>\n",
       "      <th>MonthlyCharges</th>\n",
       "      <th>TotalCharges</th>\n",
       "      <th>Churn_Status</th>\n",
       "    </tr>\n",
       "  </thead>\n",
       "  <tbody>\n",
       "    <tr>\n",
       "      <th>0</th>\n",
       "      <td>8879-ZKJOF</td>\n",
       "      <td>0</td>\n",
       "      <td>0</td>\n",
       "      <td>0</td>\n",
       "      <td>0</td>\n",
       "      <td>41</td>\n",
       "      <td>1</td>\n",
       "      <td>0</td>\n",
       "      <td>0</td>\n",
       "      <td>2</td>\n",
       "      <td>...</td>\n",
       "      <td>2</td>\n",
       "      <td>2</td>\n",
       "      <td>2</td>\n",
       "      <td>2</td>\n",
       "      <td>1</td>\n",
       "      <td>1</td>\n",
       "      <td>0</td>\n",
       "      <td>79.85</td>\n",
       "      <td>3320.75</td>\n",
       "      <td>0</td>\n",
       "    </tr>\n",
       "    <tr>\n",
       "      <th>1</th>\n",
       "      <td>0201-MIBOL</td>\n",
       "      <td>0</td>\n",
       "      <td>1</td>\n",
       "      <td>0</td>\n",
       "      <td>0</td>\n",
       "      <td>66</td>\n",
       "      <td>1</td>\n",
       "      <td>2</td>\n",
       "      <td>1</td>\n",
       "      <td>2</td>\n",
       "      <td>...</td>\n",
       "      <td>0</td>\n",
       "      <td>0</td>\n",
       "      <td>2</td>\n",
       "      <td>2</td>\n",
       "      <td>2</td>\n",
       "      <td>1</td>\n",
       "      <td>0</td>\n",
       "      <td>102.40</td>\n",
       "      <td>6471.85</td>\n",
       "      <td>0</td>\n",
       "    </tr>\n",
       "    <tr>\n",
       "      <th>2</th>\n",
       "      <td>1600-DILPE</td>\n",
       "      <td>0</td>\n",
       "      <td>0</td>\n",
       "      <td>0</td>\n",
       "      <td>0</td>\n",
       "      <td>12</td>\n",
       "      <td>1</td>\n",
       "      <td>0</td>\n",
       "      <td>0</td>\n",
       "      <td>0</td>\n",
       "      <td>...</td>\n",
       "      <td>0</td>\n",
       "      <td>0</td>\n",
       "      <td>0</td>\n",
       "      <td>0</td>\n",
       "      <td>0</td>\n",
       "      <td>1</td>\n",
       "      <td>0</td>\n",
       "      <td>45.00</td>\n",
       "      <td>524.35</td>\n",
       "      <td>0</td>\n",
       "    </tr>\n",
       "    <tr>\n",
       "      <th>3</th>\n",
       "      <td>8601-QACRS</td>\n",
       "      <td>0</td>\n",
       "      <td>0</td>\n",
       "      <td>0</td>\n",
       "      <td>0</td>\n",
       "      <td>5</td>\n",
       "      <td>1</td>\n",
       "      <td>2</td>\n",
       "      <td>0</td>\n",
       "      <td>0</td>\n",
       "      <td>...</td>\n",
       "      <td>0</td>\n",
       "      <td>0</td>\n",
       "      <td>0</td>\n",
       "      <td>0</td>\n",
       "      <td>0</td>\n",
       "      <td>1</td>\n",
       "      <td>3</td>\n",
       "      <td>50.60</td>\n",
       "      <td>249.95</td>\n",
       "      <td>1</td>\n",
       "    </tr>\n",
       "    <tr>\n",
       "      <th>4</th>\n",
       "      <td>7919-ZODZZ</td>\n",
       "      <td>0</td>\n",
       "      <td>0</td>\n",
       "      <td>1</td>\n",
       "      <td>1</td>\n",
       "      <td>10</td>\n",
       "      <td>1</td>\n",
       "      <td>0</td>\n",
       "      <td>0</td>\n",
       "      <td>0</td>\n",
       "      <td>...</td>\n",
       "      <td>2</td>\n",
       "      <td>0</td>\n",
       "      <td>0</td>\n",
       "      <td>2</td>\n",
       "      <td>1</td>\n",
       "      <td>1</td>\n",
       "      <td>3</td>\n",
       "      <td>65.90</td>\n",
       "      <td>660.05</td>\n",
       "      <td>0</td>\n",
       "    </tr>\n",
       "  </tbody>\n",
       "</table>\n",
       "<p>5 rows × 21 columns</p>\n",
       "</div>"
      ],
      "text/plain": [
       "   customerID  gender  SeniorCitizen  Partner  Dependents  tenure  \\\n",
       "0  8879-ZKJOF       0              0        0           0      41   \n",
       "1  0201-MIBOL       0              1        0           0      66   \n",
       "2  1600-DILPE       0              0        0           0      12   \n",
       "3  8601-QACRS       0              0        0           0       5   \n",
       "4  7919-ZODZZ       0              0        1           1      10   \n",
       "\n",
       "   PhoneService  MultipleLines  InternetService  OnlineSecurity  ...  \\\n",
       "0             1              0                0               2  ...   \n",
       "1             1              2                1               2  ...   \n",
       "2             1              0                0               0  ...   \n",
       "3             1              2                0               0  ...   \n",
       "4             1              0                0               0  ...   \n",
       "\n",
       "   DeviceProtection  TechSupport  StreamingTV  StreamingMovies  Contract  \\\n",
       "0                 2            2            2                2         1   \n",
       "1                 0            0            2                2         2   \n",
       "2                 0            0            0                0         0   \n",
       "3                 0            0            0                0         0   \n",
       "4                 2            0            0                2         1   \n",
       "\n",
       "   PaperlessBilling  PaymentMethod  MonthlyCharges  TotalCharges  Churn_Status  \n",
       "0                 1              0           79.85       3320.75             0  \n",
       "1                 1              0          102.40       6471.85             0  \n",
       "2                 1              0           45.00        524.35             0  \n",
       "3                 1              3           50.60        249.95             1  \n",
       "4                 1              3           65.90        660.05             0  \n",
       "\n",
       "[5 rows x 21 columns]"
      ]
     },
     "execution_count": 135,
     "metadata": {},
     "output_type": "execute_result"
    }
   ],
   "source": [
    "test.head()"
   ]
  },
  {
   "cell_type": "code",
   "execution_count": 136,
   "id": "d6619832",
   "metadata": {},
   "outputs": [],
   "source": [
    "test['Churn_Status'] = np.where(test['Churn_Status']==1, 'Yes', 'No')"
   ]
  },
  {
   "cell_type": "code",
   "execution_count": 137,
   "id": "36bfc7fd",
   "metadata": {},
   "outputs": [
    {
     "data": {
      "text/html": [
       "<div>\n",
       "<style scoped>\n",
       "    .dataframe tbody tr th:only-of-type {\n",
       "        vertical-align: middle;\n",
       "    }\n",
       "\n",
       "    .dataframe tbody tr th {\n",
       "        vertical-align: top;\n",
       "    }\n",
       "\n",
       "    .dataframe thead th {\n",
       "        text-align: right;\n",
       "    }\n",
       "</style>\n",
       "<table border=\"1\" class=\"dataframe\">\n",
       "  <thead>\n",
       "    <tr style=\"text-align: right;\">\n",
       "      <th></th>\n",
       "      <th>customerID</th>\n",
       "      <th>gender</th>\n",
       "      <th>SeniorCitizen</th>\n",
       "      <th>Partner</th>\n",
       "      <th>Dependents</th>\n",
       "      <th>tenure</th>\n",
       "      <th>PhoneService</th>\n",
       "      <th>MultipleLines</th>\n",
       "      <th>InternetService</th>\n",
       "      <th>OnlineSecurity</th>\n",
       "      <th>...</th>\n",
       "      <th>DeviceProtection</th>\n",
       "      <th>TechSupport</th>\n",
       "      <th>StreamingTV</th>\n",
       "      <th>StreamingMovies</th>\n",
       "      <th>Contract</th>\n",
       "      <th>PaperlessBilling</th>\n",
       "      <th>PaymentMethod</th>\n",
       "      <th>MonthlyCharges</th>\n",
       "      <th>TotalCharges</th>\n",
       "      <th>Churn_Status</th>\n",
       "    </tr>\n",
       "  </thead>\n",
       "  <tbody>\n",
       "    <tr>\n",
       "      <th>0</th>\n",
       "      <td>8879-ZKJOF</td>\n",
       "      <td>0</td>\n",
       "      <td>0</td>\n",
       "      <td>0</td>\n",
       "      <td>0</td>\n",
       "      <td>41</td>\n",
       "      <td>1</td>\n",
       "      <td>0</td>\n",
       "      <td>0</td>\n",
       "      <td>2</td>\n",
       "      <td>...</td>\n",
       "      <td>2</td>\n",
       "      <td>2</td>\n",
       "      <td>2</td>\n",
       "      <td>2</td>\n",
       "      <td>1</td>\n",
       "      <td>1</td>\n",
       "      <td>0</td>\n",
       "      <td>79.85</td>\n",
       "      <td>3320.75</td>\n",
       "      <td>No</td>\n",
       "    </tr>\n",
       "    <tr>\n",
       "      <th>1</th>\n",
       "      <td>0201-MIBOL</td>\n",
       "      <td>0</td>\n",
       "      <td>1</td>\n",
       "      <td>0</td>\n",
       "      <td>0</td>\n",
       "      <td>66</td>\n",
       "      <td>1</td>\n",
       "      <td>2</td>\n",
       "      <td>1</td>\n",
       "      <td>2</td>\n",
       "      <td>...</td>\n",
       "      <td>0</td>\n",
       "      <td>0</td>\n",
       "      <td>2</td>\n",
       "      <td>2</td>\n",
       "      <td>2</td>\n",
       "      <td>1</td>\n",
       "      <td>0</td>\n",
       "      <td>102.40</td>\n",
       "      <td>6471.85</td>\n",
       "      <td>No</td>\n",
       "    </tr>\n",
       "    <tr>\n",
       "      <th>2</th>\n",
       "      <td>1600-DILPE</td>\n",
       "      <td>0</td>\n",
       "      <td>0</td>\n",
       "      <td>0</td>\n",
       "      <td>0</td>\n",
       "      <td>12</td>\n",
       "      <td>1</td>\n",
       "      <td>0</td>\n",
       "      <td>0</td>\n",
       "      <td>0</td>\n",
       "      <td>...</td>\n",
       "      <td>0</td>\n",
       "      <td>0</td>\n",
       "      <td>0</td>\n",
       "      <td>0</td>\n",
       "      <td>0</td>\n",
       "      <td>1</td>\n",
       "      <td>0</td>\n",
       "      <td>45.00</td>\n",
       "      <td>524.35</td>\n",
       "      <td>No</td>\n",
       "    </tr>\n",
       "    <tr>\n",
       "      <th>3</th>\n",
       "      <td>8601-QACRS</td>\n",
       "      <td>0</td>\n",
       "      <td>0</td>\n",
       "      <td>0</td>\n",
       "      <td>0</td>\n",
       "      <td>5</td>\n",
       "      <td>1</td>\n",
       "      <td>2</td>\n",
       "      <td>0</td>\n",
       "      <td>0</td>\n",
       "      <td>...</td>\n",
       "      <td>0</td>\n",
       "      <td>0</td>\n",
       "      <td>0</td>\n",
       "      <td>0</td>\n",
       "      <td>0</td>\n",
       "      <td>1</td>\n",
       "      <td>3</td>\n",
       "      <td>50.60</td>\n",
       "      <td>249.95</td>\n",
       "      <td>Yes</td>\n",
       "    </tr>\n",
       "    <tr>\n",
       "      <th>4</th>\n",
       "      <td>7919-ZODZZ</td>\n",
       "      <td>0</td>\n",
       "      <td>0</td>\n",
       "      <td>1</td>\n",
       "      <td>1</td>\n",
       "      <td>10</td>\n",
       "      <td>1</td>\n",
       "      <td>0</td>\n",
       "      <td>0</td>\n",
       "      <td>0</td>\n",
       "      <td>...</td>\n",
       "      <td>2</td>\n",
       "      <td>0</td>\n",
       "      <td>0</td>\n",
       "      <td>2</td>\n",
       "      <td>1</td>\n",
       "      <td>1</td>\n",
       "      <td>3</td>\n",
       "      <td>65.90</td>\n",
       "      <td>660.05</td>\n",
       "      <td>No</td>\n",
       "    </tr>\n",
       "  </tbody>\n",
       "</table>\n",
       "<p>5 rows × 21 columns</p>\n",
       "</div>"
      ],
      "text/plain": [
       "   customerID  gender  SeniorCitizen  Partner  Dependents  tenure  \\\n",
       "0  8879-ZKJOF       0              0        0           0      41   \n",
       "1  0201-MIBOL       0              1        0           0      66   \n",
       "2  1600-DILPE       0              0        0           0      12   \n",
       "3  8601-QACRS       0              0        0           0       5   \n",
       "4  7919-ZODZZ       0              0        1           1      10   \n",
       "\n",
       "   PhoneService  MultipleLines  InternetService  OnlineSecurity  ...  \\\n",
       "0             1              0                0               2  ...   \n",
       "1             1              2                1               2  ...   \n",
       "2             1              0                0               0  ...   \n",
       "3             1              2                0               0  ...   \n",
       "4             1              0                0               0  ...   \n",
       "\n",
       "   DeviceProtection  TechSupport  StreamingTV  StreamingMovies  Contract  \\\n",
       "0                 2            2            2                2         1   \n",
       "1                 0            0            2                2         2   \n",
       "2                 0            0            0                0         0   \n",
       "3                 0            0            0                0         0   \n",
       "4                 2            0            0                2         1   \n",
       "\n",
       "   PaperlessBilling  PaymentMethod  MonthlyCharges  TotalCharges  Churn_Status  \n",
       "0                 1              0           79.85       3320.75            No  \n",
       "1                 1              0          102.40       6471.85            No  \n",
       "2                 1              0           45.00        524.35            No  \n",
       "3                 1              3           50.60        249.95           Yes  \n",
       "4                 1              3           65.90        660.05            No  \n",
       "\n",
       "[5 rows x 21 columns]"
      ]
     },
     "execution_count": 137,
     "metadata": {},
     "output_type": "execute_result"
    }
   ],
   "source": [
    "test.head()"
   ]
  },
  {
   "cell_type": "code",
   "execution_count": 138,
   "id": "53d183ca",
   "metadata": {},
   "outputs": [],
   "source": [
    "test.to_csv('SUB_test.csv', index = False, header = False)"
   ]
  },
  {
   "cell_type": "code",
   "execution_count": null,
   "id": "c8e5fc38",
   "metadata": {},
   "outputs": [],
   "source": []
  }
 ],
 "metadata": {
  "kernelspec": {
   "display_name": "Python 3 (ipykernel)",
   "language": "python",
   "name": "python3"
  },
  "language_info": {
   "codemirror_mode": {
    "name": "ipython",
    "version": 3
   },
   "file_extension": ".py",
   "mimetype": "text/x-python",
   "name": "python",
   "nbconvert_exporter": "python",
   "pygments_lexer": "ipython3",
   "version": "3.9.12"
  }
 },
 "nbformat": 4,
 "nbformat_minor": 5
}
